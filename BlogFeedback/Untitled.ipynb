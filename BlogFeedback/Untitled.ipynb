{
 "cells": [
  {
   "cell_type": "code",
   "execution_count": 4,
   "metadata": {
    "collapsed": true
   },
   "outputs": [],
   "source": [
    "\n",
    "from sklearn.model_selection import KFold\n",
    "from sklearn.linear_model import LinearRegression, Ridge\n",
    "import numpy as np\n",
    "from sklearn.linear_model import Lasso\n",
    "\n",
    "from sklearn.datasets import load_boston\n",
    "\n"
   ]
  },
  {
   "cell_type": "code",
   "execution_count": 5,
   "metadata": {
    "collapsed": true
   },
   "outputs": [],
   "source": []
  },
  {
   "cell_type": "code",
   "execution_count": 9,
   "metadata": {},
   "outputs": [
    {
     "name": "stdout",
     "output_type": "stream",
     "text": [
      "\n"
     ]
    }
   ],
   "source": [
    "scaler = StandardScaler()\n",
    "X = scaler.fit_transform(x_train)"
   ]
  },
  {
   "cell_type": "code",
   "execution_count": 24,
   "metadata": {},
   "outputs": [
    {
     "name": "stdout",
     "output_type": "stream",
     "text": [
      "\n"
     ]
    }
   ],
   "source": [
    "#lasso = Lasso(alpha=.3)\n",
    "#lasso.fit(X, traintar)\n",
    "  \n",
    "def print_linear(coefs, names = None, sort = False):\n",
    "    names = [\"X%s\" % x for x in range(len(coefs))]\n",
    "    lst = {}\n",
    "    \n",
    "    for i in range(len(names)):\n",
    "        lst[names[i+1]] = coefs[i+1]\n",
    "    if sort:\n",
    "        lst = sorted(lst,key = lambda x:-np.abs(x[0]))\n",
    "    return \" + \".join(\"%s * %s\" % (round(coef, 3), name)\n",
    "                                   for coef, name in lst)\n",
    "\n",
    "#print \"Lasso model: \", print_linear(lasso.coef_, names, sort = True)\n"
   ]
  },
  {
   "cell_type": "code",
   "execution_count": 21,
   "metadata": {},
   "outputs": [
    {
     "ename": "NameError",
     "evalue": "name 'X_transform' is not defined",
     "output_type": "error",
     "traceback": [
      "\u001b[1;31m---------------------------------------------------------------------------\u001b[0m",
      "\u001b[1;31mNameError\u001b[0m                                 Traceback (most recent call last)",
      "\u001b[1;32m<ipython-input-21-25aca148a131>\u001b[0m in \u001b[0;36m<module>\u001b[1;34m()\u001b[0m\n\u001b[0;32m     19\u001b[0m     \u001b[0mn_features\u001b[0m \u001b[1;33m=\u001b[0m \u001b[0mX_transform\u001b[0m\u001b[1;33m.\u001b[0m\u001b[0mshape\u001b[0m\u001b[1;33m[\u001b[0m\u001b[1;36m1\u001b[0m\u001b[1;33m]\u001b[0m\u001b[1;33m\u001b[0m\u001b[0m\n\u001b[0;32m     20\u001b[0m \u001b[1;33m\u001b[0m\u001b[0m\n\u001b[1;32m---> 21\u001b[1;33m \u001b[1;32mprint\u001b[0m\u001b[1;33m(\u001b[0m\u001b[0mX_transform\u001b[0m\u001b[1;33m[\u001b[0m\u001b[1;33m:\u001b[0m\u001b[1;33m,\u001b[0m \u001b[1;36m0\u001b[0m\u001b[1;33m]\u001b[0m\u001b[1;33m)\u001b[0m\u001b[1;33m\u001b[0m\u001b[0m\n\u001b[0m",
      "\u001b[1;31mNameError\u001b[0m: name 'X_transform' is not defined"
     ]
    }
   ],
   "source": [
    "import matplotlib.pyplot as plt\n",
    "import numpy as np\n",
    "\n",
    "from sklearn.datasets import load_boston\n",
    "from sklearn.feature_selection import SelectFromModel\n",
    "\n",
    "\n",
    "# We use the base estimator LassoCV since the L1 norm promotes sparsity of features.\n",
    "clf = LassoCV()\n",
    "\n",
    "# Set a minimum threshold of 0.25\n",
    "sfm = SelectFromModel(clf, threshold=0.25)\n",
    "sfm.fit(x_train, traintar)\n",
    "n_features = sfm.transform(x_train).shape[1]\n",
    "\n",
    "while n_features > 5:\n",
    "    sfm.threshold += 0.1\n",
    "    X_transform = sfm.transform(x_train)\n",
    "    n_features = X_transform.shape[1]\n",
    "\n",
    "print(X_transform[:, 0])"
   ]
  },
  {
   "cell_type": "code",
   "execution_count": 40,
   "metadata": {},
   "outputs": [
    {
     "name": "stdout",
     "output_type": "stream",
     "text": [
      "Lasso model:  10.468 * X5 + 10.183 * X51 + -9.332 * X15 + 5.132 * X20 + -4.806 * X50 + 3.635 * X4 + 3.559 * X14 + -3.143 * X60 + -2.789 * X53 + 2.756 * X54 + 2.42 * X6 + -2.33 * X23 + 2.048 * X9 + 1.637 * X11 + -1.198 * X22 + 0.943 * X10 + 0.918 * X1 + 0.704 * X24 + -0.689 * X216 + -0.654 * X18 + -0.653 * X44 + -0.644 * X17 + 0.621 * X68 + 0.588 * X76 + 0.549 * X225 + 0.488 * X84 + -0.48 * X146 + 0.47 * X170 + 0.449 * X71 + 0.441 * X91 + 0.437 * X157 + 0.437 * X268 + 0.419 * X240 + 0.388 * X194 + -0.378 * X221 + 0.36 * X220 + -0.357 * X113 + 0.339 * X61 + 0.33 * X153 + 0.327 * X56 + -0.321 * X245 + -0.32 * X218 + -0.315 * X142 + 0.311 * X89 + 0.307 * X262 + 0.304 * X231 + -0.297 * X144 + 0.287 * X87 + -0.283 * X40 + 0.27 * X136 + -0.259 * X88 + 0.255 * X260 + 0.251 * X95 + 0.247 * X43 + -0.241 * X115 + 0.237 * X158 + 0.237 * X215 + -0.235 * X81 + -0.234 * X118 + -0.234 * X196 + -0.233 * X264 + -0.227 * X159 + 0.225 * X217 + -0.224 * X241 + -0.22 * X193 + -0.219 * X100 + -0.219 * X246 + -0.216 * X126 + -0.213 * X109 + 0.213 * X201 + -0.212 * X63 + 0.212 * X251 + 0.211 * X137 + -0.21 * X106 + 0.208 * X183 + 0.206 * X270 + 0.205 * X101 + -0.202 * X266 + -0.2 * X254 + -0.197 * X154 + 0.196 * X123 + 0.19 * X256 + 0.188 * X150 + -0.183 * X169 + 0.182 * X97 + 0.18 * X207 + 0.179 * X247 + -0.178 * X195 + -0.178 * X86 + -0.177 * X152 + 0.172 * X259 + -0.17 * X236 + -0.161 * X173 + -0.161 * X107 + -0.16 * X224 + 0.156 * X57 + -0.154 * X182 + 0.154 * X39 + -0.153 * X272 + -0.15 * X99 + -0.148 * X237 + -0.146 * X163 + 0.143 * X185 + -0.143 * X73 + -0.142 * X66 + -0.142 * X83 + -0.139 * X210 + -0.136 * X200 + -0.136 * X124 + -0.135 * X121 + -0.132 * X134 + 0.132 * X103 + -0.132 * X186 + -0.13 * X175 + -0.128 * X145 + 0.126 * X120 + -0.122 * X70 + -0.121 * X69 + 0.117 * X191 + -0.115 * X180 + -0.113 * X202 + -0.112 * X151 + 0.112 * X213 + 0.111 * X162 + -0.107 * X227 + 0.105 * X140 + -0.103 * X190 + -0.101 * X187 + -0.1 * X188 + 0.099 * X274 + -0.098 * X233 + -0.094 * X265 + -0.094 * X230 + 0.091 * X67 + 0.09 * X133 + 0.089 * X92 + -0.089 * X34 + -0.085 * X179 + 0.082 * X104 + 0.081 * X206 + 0.08 * X204 + 0.079 * X125 + 0.075 * X203 + -0.075 * X161 + 0.074 * X132 + 0.073 * X209 + -0.073 * X90 + -0.068 * X147 + -0.067 * X74 + 0.067 * X143 + -0.066 * X77 + 0.064 * X138 + -0.059 * X223 + 0.056 * X62 + -0.056 * X176 + -0.055 * X205 + 0.055 * X174 + -0.055 * X172 + -0.055 * X94 + 0.054 * X229 + -0.052 * X273 + -0.051 * X111 + 0.05 * X117 + 0.049 * X271 + 0.048 * X226 + 0.047 * X141 + 0.045 * X198 + -0.043 * X139 + -0.042 * X119 + -0.041 * X122 + -0.04 * X269 + 0.039 * X279 + -0.035 * X98 + 0.035 * X42 + -0.034 * X116 + -0.034 * X130 + -0.033 * X7 + 0.032 * X58 + -0.031 * X105 + 0.031 * X257 + 0.03 * X258 + -0.03 * X208 + -0.027 * X234 + 0.025 * X135 + 0.024 * X49 + 0.022 * X112 + 0.022 * X166 + -0.018 * X78 + -0.018 * X250 + -0.018 * X253 + 0.017 * X276 + -0.016 * X167 + 0.016 * X181 + -0.015 * X177 + -0.013 * X261 + -0.012 * X239 + -0.009 * X228 + -0.009 * X25 + 0.009 * X149 + 0.007 * X255 + 0.005 * X27 + 0.003 * X244 + -0.003 * X114 + -0.001 * X164 + -0.0 * X0 + -0.0 * X2 + 0.0 * X3 + -0.0 * X8 + 0.0 * X12 + -0.0 * X13 + -0.0 * X16 + 0.0 * X19 + -0.0 * X21 + 0.0 * X26 + 0.0 * X28 + -0.0 * X29 + 0.0 * X30 + -0.0 * X31 + 0.0 * X32 + 0.0 * X33 + 0.0 * X35 + -0.0 * X36 + 0.0 * X37 + 0.0 * X38 + 0.0 * X41 + -0.0 * X45 + -0.0 * X46 + 0.0 * X47 + 0.0 * X48 + -0.0 * X52 + -0.0 * X55 + 0.0 * X59 + -0.0 * X64 + 0.0 * X65 + -0.0 * X72 + -0.0 * X75 + -0.0 * X79 + -0.0 * X80 + -0.0 * X82 + -0.0 * X85 + -0.0 * X93 + -0.0 * X96 + 0.0 * X102 + 0.0 * X108 + 0.0 * X110 + 0.0 * X127 + 0.0 * X128 + -0.0 * X129 + -0.0 * X131 + -0.0 * X148 + -0.0 * X155 + 0.0 * X156 + -0.0 * X160 + -0.0 * X165 + -0.0 * X168 + -0.0 * X171 + -0.0 * X178 + 0.0 * X184 + -0.0 * X189 + 0.0 * X192 + -0.0 * X197 + -0.0 * X199 + -0.0 * X211 + 0.0 * X212 + -0.0 * X214 + 0.0 * X219 + -0.0 * X222 + 0.0 * X232 + -0.0 * X235 + 0.0 * X238 + -0.0 * X242 + 0.0 * X243 + 0.0 * X248 + -0.0 * X249 + -0.0 * X252 + 0.0 * X263 + 0.0 * X267 + 0.0 * X275 + 0.0 * X277 + 0.0 * X278\n"
     ]
    }
   ],
   "source": [
    "\n",
    "from sklearn.preprocessing import StandardScaler\n",
    "from sklearn.linear_model import LassoCV\n",
    "from sklearn.preprocessing import StandardScaler\n",
    "import pandas as pd\n",
    "\n",
    "\n",
    "train = pd.read_csv('blogData_train.csv', sep = ',', header = None)\n",
    "test = pd.read_csv('blogData_test-2012.03.31.01_00.csv', sep = ',', header = None)\n",
    "x_train = train.iloc[:, :-1]\n",
    "x_test = test.iloc[:, :-1]\n",
    "traintar = train.iloc[:,-1]\n",
    "testtar = test.iloc[:,-1]\n",
    "\n",
    "scaler = StandardScaler()\n",
    "X = scaler.fit_transform(x_train)\n",
    "\n",
    "names = []\n",
    "for i in range(len(x_train.columns)):\n",
    "    names.append(i)\n",
    "    \n",
    "  \n",
    "lasso = LassoCV()\n",
    "lasso.fit(X, traintar)\n",
    "\n",
    "def print_linear(coefs, names, sort):\n",
    "    #if names == None:\n",
    "    names = [\"X%s\" % x for x in range(len(coefs))]\n",
    "    lst = zip(coefs, names)\n",
    "    if sort:\n",
    "        lst = sorted(lst,  key = lambda x:-np.abs(x[0]))\n",
    "    return \" + \".join(\"%s * %s\" % (round(coef, 3), name)\n",
    "                                   for coef, name in lst)\n",
    "  \n",
    "print \"Lasso model: \",print_linear(lasso.coef_, names, sort = True)\n"
   ]
  },
  {
   "cell_type": "code",
   "execution_count": null,
   "metadata": {
    "collapsed": true
   },
   "outputs": [],
   "source": [
    "lasso = LassoCV()\n"
   ]
  }
 ],
 "metadata": {
  "kernelspec": {
   "display_name": "Python 2",
   "language": "python",
   "name": "python2"
  },
  "language_info": {
   "codemirror_mode": {
    "name": "ipython",
    "version": 2
   },
   "file_extension": ".py",
   "mimetype": "text/x-python",
   "name": "python",
   "nbconvert_exporter": "python",
   "pygments_lexer": "ipython2",
   "version": "2.7.13"
  }
 },
 "nbformat": 4,
 "nbformat_minor": 2
}
