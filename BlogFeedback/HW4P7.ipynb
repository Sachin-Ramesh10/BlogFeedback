{
 "cells": [
  {
   "cell_type": "code",
   "execution_count": null,
   "metadata": {
    "collapsed": true
   },
   "outputs": [],
   "source": [
    "import pandas as pd\n",
    "from sklearn.model_selection import KFold\n",
    "from sklearn.linear_model import LinearRegression, Ridge\n",
    "import numpy as np\n"
   ]
  },
  {
   "cell_type": "code",
   "execution_count": null,
   "metadata": {
    "collapsed": true
   },
   "outputs": [],
   "source": [
    "train = pd.read_csv('blogData_train.csv', sep = ',', header = None)\n",
    "test = pd.read_csv('blogData_test-2012.03.31.01_00.csv', sep = ',', header = None)\n",
    "x_train = train.iloc[:, :-1]\n",
    "x_test = test.iloc[:, :-1]"
   ]
  },
  {
   "cell_type": "code",
   "execution_count": null,
   "metadata": {
    "collapsed": true
   },
   "outputs": [],
   "source": [
    "traintar = train.iloc[:,-1]\n",
    "testtar = test.iloc[:,-1]"
   ]
  },
  {
   "cell_type": "code",
   "execution_count": null,
   "metadata": {},
   "outputs": [],
   "source": [
    "linreg = LinearRegression()\n"
   ]
  },
  {
   "cell_type": "code",
   "execution_count": null,
   "metadata": {
    "collapsed": true
   },
   "outputs": [],
   "source": [
    "\n"
   ]
  },
  {
   "cell_type": "code",
   "execution_count": null,
   "metadata": {
    "collapsed": true
   },
   "outputs": [],
   "source": []
  },
  {
   "cell_type": "code",
   "execution_count": 58,
   "metadata": {},
   "outputs": [
    {
     "name": "stdout",
     "output_type": "stream",
     "text": [
      "40.3997366398\n"
     ]
    }
   ],
   "source": [
    "from sklearn.grid_search import GridSearchCV\n",
    "\n",
    "parameters =  {'fit_intercept':[True,False], 'normalize':[True, False], 'copy_X': [True, False], 'n_jobs': [1,2,3]}\n",
    "\n",
    "grid_obj = GridSearchCV(linreg,parameters)  \n",
    "grid_fit = grid_obj.fit(x_train,traintar)\n",
    "best_clf = grid_fit.best_estimator_\n",
    "best_predictions = best_clf.predict(x_test)\n",
    "\n",
    "er = np.sqrt(np.mean((best_predictions - testtar)**2))\n",
    "print er"
   ]
  },
  {
   "cell_type": "code",
   "execution_count": 77,
   "metadata": {},
   "outputs": [
    {
     "name": "stdout",
     "output_type": "stream",
     "text": [
      "40.4291367872\n"
     ]
    }
   ],
   "source": [
    "from sklearn.linear_model import RidgeCV\n",
    "\n",
    "ridreg = RidgeCV(alphas=(0.1, 1.0, 10.0), gcv_mode= 'auto')\n",
    "s = ridreg.fit(x_train,traintar)\n",
    "predict = s.predict(x_test)\n",
    "\n",
    "er = np.sqrt(np.mean((predict - testtar)**2))\n",
    "print er"
   ]
  },
  {
   "cell_type": "code",
   "execution_count": 99,
   "metadata": {},
   "outputs": [
    {
     "name": "stdout",
     "output_type": "stream",
     "text": [
      "40.5662948323\n"
     ]
    }
   ],
   "source": [
    "from sklearn.linear_model import LassoCV\n",
    "\n",
    "parameters = {'eps' :[0.0001,0.00001,0.0000001],\n",
    "                'n_alphas': [100,250,300],\n",
    "                'tol': [0.1, 0.001,0.0001],\n",
    "                'selection' :['cyclic', 'random']}\n",
    "\n",
    "lasreg = LassoCV()\n",
    "\n",
    "grid_obj = GridSearchCV(lasreg,parameters)  \n",
    "grid_fit = grid_obj.fit(x_train,traintar)\n",
    "best_clf = grid_fit.best_estimator_\n",
    "bestlas = best_clf.predict(x_test)\n",
    "\n",
    "er = np.sqrt(np.mean((bestlas - testtar)**2))\n",
    "print er"
   ]
  },
  {
   "cell_type": "code",
   "execution_count": null,
   "metadata": {
    "collapsed": true
   },
   "outputs": [],
   "source": []
  }
 ],
 "metadata": {
  "kernelspec": {
   "display_name": "Python 2",
   "language": "python",
   "name": "python2"
  }
 },
 "nbformat": 4,
 "nbformat_minor": 2
}
